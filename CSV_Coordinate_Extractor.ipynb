{
 "cells": [
  {
   "cell_type": "markdown",
   "metadata": {},
   "source": [
    "## .CSV Coordinate Extractor\n",
    "This notebook contains a script that will transverse through each folder/subfolder within a Data directory, in order to locate every .csv file, and extract (Coord_X & Coord_Y) coordinate columns"
   ]
  },
  {
   "cell_type": "code",
   "execution_count": 1,
   "metadata": {},
   "outputs": [],
   "source": [
    "## The script below tranverses through folders/files and extracts specified Coordinate Columns (Coord_x & Coord_Y) ## \n",
    "\n",
    "import os\n",
    "import pandas as pd\n",
    "\n",
    "def extract_coordinates(input_folder, output_folder):\n",
    "    # Ensure the 'Coordinates' folder exists in File Directory (create if not)\n",
    "    os.makedirs(output_folder, exist_ok=True)\n",
    "    \n",
    "    # Keywords that might be part of coordinate column names  (May need to adjust accordingly, ensure all possible coordinates are accounted for) \n",
    "    coord_keywords = ['coord_x', 'x', 'lon', 'longitude', 'lat', 'coord_y', 'y']\n",
    "    \n",
    "    # Walk through the folder and its subfolders\n",
    "    for root, dirs, files in os.walk(input_folder):\n",
    "        # Skip the 'Coordinates' folder itself\n",
    "        if 'Coordinates' in root:\n",
    "            continue\n",
    "        \n",
    "        for file in files:\n",
    "            # Look for CSV files\n",
    "            if file.endswith('.csv'):\n",
    "                file_path = os.path.join(root, file)\n",
    "                \n",
    "                try:\n",
    "                    # Read the CSV file, avoiding mixed dtype warning \n",
    "                    # (if dealing with large dataset, will need to revise code to include dytpe parameter: df = pd.read_csv(file path, low_memory=False, dtype={'column_name': 'str'}))\n",
    "                    df = pd.read_csv(file_path, low_memory=False)\n",
    "                    \n",
    "                    # Find columns that might represent coordinates\n",
    "                    coord_columns = []\n",
    "                    for col in df.columns:\n",
    "                        if any(keyword.lower() in col.lower() for keyword in coord_keywords):\n",
    "                            coord_columns.append(col)\n",
    "                    \n",
    "                    # Check if at least two coordinate-like columns are found\n",
    "                    if len(coord_columns) >= 2:\n",
    "                        # Extract the first two coordinate columns (assuming they represent X and Y)\n",
    "                        coords_df = df[coord_columns[:2]]\n",
    "                        \n",
    "                        # Preserve the folder structure inside the 'Coordinates' folder\n",
    "                        relative_path = os.path.relpath(root, input_folder)\n",
    "                        output_path = os.path.join(output_folder, relative_path)\n",
    "                        \n",
    "                        # Make sure the directory structure exists in the output\n",
    "                        os.makedirs(output_path, exist_ok=True)\n",
    "                        \n",
    "                        # Save the new CSV in the 'Coordinates' folder\n",
    "                        output_file_path = os.path.join(output_path, file)\n",
    "                        coords_df.to_csv(output_file_path, index=False)\n",
    "                        print(f\"Saved coordinates to {output_file_path}\")\n",
    "                    else:\n",
    "                        print(f\"Skipping {file_path}: No suitable coordinate columns found.\")\n",
    "                \n",
    "                except Exception as e:\n",
    "                    print(f\"Error processing {file_path}: {e}\")\n",
    "        # End of file loop\n",
    "\n",
    "# Example usage\n",
    "input_folder = \"path/to/your/input/folder\" ## Path to the 'Data' folder (Change this according to your file folder directory)\n",
    "output_folder = 'path/to/your/output/Coordinates/folder' # Path to the 'Coordinates' folder (change this according to your file folder directory)\n",
    "\n",
    "# Call the function to process CSV files\n",
    "extract_coordinates(input_folder, output_folder)"
   ]
  }
 ],
 "metadata": {
  "kernelspec": {
   "display_name": "myenv",
   "language": "python",
   "name": "python3"
  },
  "language_info": {
   "codemirror_mode": {
    "name": "ipython",
    "version": 3
   },
   "file_extension": ".py",
   "mimetype": "text/x-python",
   "name": "python",
   "nbconvert_exporter": "python",
   "pygments_lexer": "ipython3",
   "version": "3.11.9"
  }
 },
 "nbformat": 4,
 "nbformat_minor": 2
}
